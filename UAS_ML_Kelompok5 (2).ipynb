{
  "nbformat": 4,
  "nbformat_minor": 0,
  "metadata": {
    "colab": {
      "provenance": []
    },
    "kernelspec": {
      "name": "python3",
      "display_name": "Python 3"
    },
    "language_info": {
      "name": "python"
    }
  },
  "cells": [
    {
      "cell_type": "markdown",
      "source": [
        "# UAS MATKUL Machine Learning Kelompok 5\n",
        "Anggota Kelompok :\n",
        "- 432022611051 / Naufal Harits Prasetia\n",
        "- 432022611030 / Mohamad Farhat\n",
        "- 432022611003 / Alvin Arya Pangestu"
      ],
      "metadata": {
        "id": "j7RospFTurxY"
      }
    },
    {
      "cell_type": "markdown",
      "source": [
        "# Import file dataset dari **G.Drive**\n",
        "Untuk Dataset nya bisa download [disini](https://drive.google.com/drive/folders/1JqDEyxX0cusTmbEX-PllSHWPtRlbM1t8?usp=sharing)\n",
        "kemudian upload di google drive anda , dan jangan lupa untuk menyesuaikan PATH didalam kode dengan PATH yang anda miliki\n"
      ],
      "metadata": {
        "id": "E17IHx0WcxAH"
      }
    },
    {
      "cell_type": "code",
      "source": [
        "# menyambungkan g.collabs dengan g.drive\n",
        "from google.colab import drive\n",
        "drive.mount('/content/drive')"
      ],
      "metadata": {
        "id": "jYtGs8UGbAqq",
        "colab": {
          "base_uri": "https://localhost:8080/"
        },
        "outputId": "86683556-9075-49b5-c1c5-7a500680131c"
      },
      "execution_count": null,
      "outputs": [
        {
          "output_type": "stream",
          "name": "stdout",
          "text": [
            "Mounted at /content/drive\n"
          ]
        }
      ]
    },
    {
      "cell_type": "markdown",
      "source": [
        "# Import Library"
      ],
      "metadata": {
        "id": "H6Nuv1loeMCV"
      }
    },
    {
      "cell_type": "code",
      "execution_count": null,
      "metadata": {
        "id": "vvH3_5GTcjs7"
      },
      "outputs": [],
      "source": [
        "import matplotlib.pyplot as plt\n",
        "import numpy as np\n",
        "import cv2\n",
        "import os\n",
        "\n",
        "#\n",
        "import keras\n",
        "from tensorflow.keras.utils import load_img, img_to_array\n",
        "from keras.models import Model\n",
        "from keras.applications import imagenet_utils\n",
        "from keras.applications import MobileNet\n",
        "from keras.applications.mobilenet import preprocess_input\n",
        "from IPython.display import Image\n",
        "#\n",
        "from keras.layers import Dense,GlobalAveragePooling2D\n",
        "# Image Generator\n",
        "from keras.preprocessing.image import ImageDataGenerator\n",
        "# earlyStopping\n",
        "from keras.callbacks import EarlyStopping\n",
        "# capture image\n",
        "from IPython.display import display, Javascript\n",
        "from google.colab.output import eval_js\n",
        "from base64 import b64decode"
      ]
    },
    {
      "cell_type": "markdown",
      "source": [
        "## Deklarasi / PemBuatan Fungsi"
      ],
      "metadata": {
        "id": "jhXVuJ28tFn_"
      }
    },
    {
      "cell_type": "code",
      "source": [
        "# fungsi mengambil gambar dari webcam\n",
        "def take_photo(filename='fotopercobaan.jpg', quality=0.8):\n",
        "  js = Javascript('''\n",
        "    async function takePhoto(quality) {\n",
        "      const div = document.createElement('div');\n",
        "      const capture = document.createElement('button');\n",
        "      capture.textContent = 'Capture';\n",
        "      div.appendChild(capture);\n",
        "\n",
        "      const video = document.createElement('video');\n",
        "      video.style.display = 'block';\n",
        "      const stream = await navigator.mediaDevices.getUserMedia({video: true});\n",
        "\n",
        "      document.body.appendChild(div);\n",
        "      div.appendChild(video);\n",
        "      video.srcObject = stream;\n",
        "      await video.play();\n",
        "\n",
        "      // Resize the output to fit the video element.\n",
        "      google.colab.output.setIframeHeight(document.documentElement.scrollHeight, true);\n",
        "\n",
        "      // Wait for Capture to be clicked.\n",
        "      await new Promise((resolve) => capture.onclick = resolve);\n",
        "\n",
        "      const canvas = document.createElement('canvas');\n",
        "      canvas.width = video.videoWidth;\n",
        "      canvas.height = video.videoHeight;\n",
        "      canvas.getContext('2d').drawImage(video, 0, 0);\n",
        "      stream.getVideoTracks()[0].stop();\n",
        "      div.remove();\n",
        "      return canvas.toDataURL('image/jpeg', quality);\n",
        "    }\n",
        "    ''')\n",
        "  display(js)\n",
        "  data = eval_js('takePhoto({})'.format(quality))\n",
        "  binary = b64decode(data.split(',')[1])\n",
        "  with open(filename, 'wb') as f:\n",
        "    f.write(binary)\n",
        "  return filename"
      ],
      "metadata": {
        "id": "kSFSB7rmtIue"
      },
      "execution_count": null,
      "outputs": []
    },
    {
      "cell_type": "code",
      "source": [
        "# Membuat Fungsi agar hasil prediksi nya bisa berupa output teks yang bisa dibaca\n",
        "def prediksi_ke_teks(prediksi):\n",
        "    \"\"\"\n",
        "    Fungsi ini mengubah output prediksi dari model menjadi label teks.\n",
        "\n",
        "    Parameter:\n",
        "    prediksi (numpy array): Array prediksi dari model, di mana prediksi berbentuk one-hot encoding.\n",
        "\n",
        "    Returns:\n",
        "    str: Label prediksi dalam bentuk teks.\n",
        "    \"\"\"\n",
        "    # Mapping angka ke label\n",
        "    label_map = {0: \"Scissor\", 1: \"Paper\", 2: \"Rock\"}\n",
        "\n",
        "    # Menemukan indeks dari prediksi yang bernilai tertinggi\n",
        "    predicted_index = np.argmax(prediksi)\n",
        "\n",
        "    # Mengakses label berdasarkan indeks prediksi\n",
        "    predicted_label = label_map[predicted_index]\n",
        "\n",
        "    # Mengembalikan hasil prediksi dalam bentuk teks\n",
        "    return f\"Gambar diatas diprediksi adalah {predicted_label}\""
      ],
      "metadata": {
        "id": "S-LZ-nYftEpy"
      },
      "execution_count": null,
      "outputs": []
    },
    {
      "cell_type": "markdown",
      "source": [
        "# Cek Isi Dari Folder Dataset"
      ],
      "metadata": {
        "id": "hbXZf4QrkpVS"
      }
    },
    {
      "cell_type": "code",
      "source": [
        "# Sesuaikan path dengan direktori g.drive masing-masing\n",
        "!ls \"/content/drive/MyDrive/Colab Notebooks/dataset/rockpaperscissors\"\n",
        "drive_dir_name = \"/content/drive/MyDrive/Colab Notebooks/dataset/rockpaperscissors\"\n",
        "train_dir = drive_dir_name\n",
        "validation_dir = '/content/drive/MyDrive/Colab Notebooks/dataset/validation'\n",
        "test_dir = '/content/drive/MyDrive/Colab Notebooks/dataset/testing'\n",
        "classes = os.listdir(train_dir)\n",
        "classes"
      ],
      "metadata": {
        "id": "uAtDgIOkeMT6",
        "colab": {
          "base_uri": "https://localhost:8080/"
        },
        "outputId": "9fb2907b-f9ec-47f2-8c4f-da65014fefa6"
      },
      "execution_count": null,
      "outputs": [
        {
          "output_type": "stream",
          "name": "stdout",
          "text": [
            "1scissors  2paper  3rock\n"
          ]
        },
        {
          "output_type": "execute_result",
          "data": {
            "text/plain": [
              "['1scissors', '2paper', '3rock']"
            ]
          },
          "metadata": {},
          "execution_count": 5
        }
      ]
    },
    {
      "cell_type": "code",
      "source": [
        "# buat variabel per class\n",
        "paper_dir = os.path.join(drive_dir_name,'2paper')\n",
        "rock_dir = os.path.join(drive_dir_name,'3rock')\n",
        "scissors_dir = os.path.join(drive_dir_name,'1scissors')\n",
        "# hitung jumlah masing2 data\n",
        "jumlahBatu =len(os.listdir(rock_dir))\n",
        "jumlahKertas =len(os.listdir(paper_dir))\n",
        "jumlahGunting = len(os.listdir(scissors_dir))\n",
        "jumlahSemua =jumlahBatu+jumlahKertas+jumlahGunting\n",
        "# Print\n",
        "print(\"1. Scissors :\", jumlahGunting)\n",
        "print(\"2. Paper :\", jumlahKertas)\n",
        "print(\"3. Rock :\", jumlahBatu)\n",
        "print(\"Semua data trainning:\", jumlahSemua)"
      ],
      "metadata": {
        "id": "0wRKkUmxkSqR",
        "colab": {
          "base_uri": "https://localhost:8080/"
        },
        "outputId": "851ce627-17bb-4625-b985-b68afe708a41"
      },
      "execution_count": null,
      "outputs": [
        {
          "output_type": "stream",
          "name": "stdout",
          "text": [
            "1. Scissors : 550\n",
            "2. Paper : 512\n",
            "3. Rock : 526\n",
            "Semua data trainning: 1588\n"
          ]
        }
      ]
    },
    {
      "cell_type": "code",
      "source": [
        "# buat variabel per class\n",
        "scissors_dir = os.path.join(validation_dir,'1scissors')\n",
        "paper_dir = os.path.join(validation_dir,'2paper')\n",
        "rock_dir = os.path.join(validation_dir,'3rock')\n",
        "# hitung jumlah masing2 data\n",
        "jumlahBatu =len(os.listdir(rock_dir))\n",
        "jumlahKertas =len(os.listdir(paper_dir))\n",
        "jumlahGunting = len(os.listdir(scissors_dir))\n",
        "jumlahSemua =jumlahBatu+jumlahKertas+jumlahGunting\n",
        "# Print\n",
        "print(\"Rock :\", jumlahBatu)\n",
        "print(\"Paper :\", jumlahKertas)\n",
        "print(\"Scissors :\", jumlahGunting)\n",
        "print(\"Semua data Validation:\", jumlahSemua)"
      ],
      "metadata": {
        "colab": {
          "base_uri": "https://localhost:8080/"
        },
        "id": "_UqSB4gODd3I",
        "outputId": "7b6a7d0a-83fd-453b-f57d-0ee18b1262c9"
      },
      "execution_count": null,
      "outputs": [
        {
          "output_type": "stream",
          "name": "stdout",
          "text": [
            "Rock : 150\n",
            "Paper : 150\n",
            "Scissors : 150\n",
            "Semua data Validation: 450\n"
          ]
        }
      ]
    },
    {
      "cell_type": "code",
      "source": [
        "# buat variabel per class\n",
        "scissors_dir = os.path.join(test_dir,'1scissors')\n",
        "paper_dir = os.path.join(test_dir,'2paper')\n",
        "rock_dir = os.path.join(test_dir,'3rock')\n",
        "# hitung jumlah masing2 data\n",
        "jumlahBatu =len(os.listdir(rock_dir))\n",
        "jumlahKertas =len(os.listdir(paper_dir))\n",
        "jumlahGunting = len(os.listdir(scissors_dir))\n",
        "jumlahSemua =jumlahBatu+jumlahKertas+jumlahGunting\n",
        "# Print\n",
        "print(\"Rock :\", jumlahBatu)\n",
        "print(\"Paper :\", jumlahKertas)\n",
        "print(\"Scissors :\", jumlahGunting)\n",
        "print(\"Semua data Testing:\", jumlahSemua)"
      ],
      "metadata": {
        "id": "rLQJ6HI2Bd1-",
        "colab": {
          "base_uri": "https://localhost:8080/"
        },
        "outputId": "67a1d3f1-78c9-455d-9930-892c29d17b2d"
      },
      "execution_count": null,
      "outputs": [
        {
          "output_type": "stream",
          "name": "stdout",
          "text": [
            "Rock : 50\n",
            "Paper : 50\n",
            "Scissors : 50\n",
            "Semua data Testing: 150\n"
          ]
        }
      ]
    },
    {
      "cell_type": "markdown",
      "source": [
        "# MobileNet Model"
      ],
      "metadata": {
        "id": "RBWxMG0598L2"
      }
    },
    {
      "cell_type": "code",
      "source": [
        "myModel = keras.applications.mobilenet.MobileNet(input_shape=(150,150,3),weights='imagenet',include_top=False)"
      ],
      "metadata": {
        "id": "xTscVTM_9A-x",
        "colab": {
          "base_uri": "https://localhost:8080/"
        },
        "outputId": "0fe41ab3-327e-4d04-e56c-26498d25e542"
      },
      "execution_count": null,
      "outputs": [
        {
          "output_type": "stream",
          "name": "stderr",
          "text": [
            "WARNING:tensorflow:`input_shape` is undefined or non-square, or `rows` is not in [128, 160, 192, 224]. Weights for input shape (224, 224) will be loaded as the default.\n"
          ]
        },
        {
          "output_type": "stream",
          "name": "stdout",
          "text": [
            "Downloading data from https://storage.googleapis.com/tensorflow/keras-applications/mobilenet/mobilenet_1_0_224_tf_no_top.h5\n",
            "17225924/17225924 [==============================] - 0s 0us/step\n"
          ]
        }
      ]
    },
    {
      "cell_type": "code",
      "source": [
        "# arsitektur mobileNet tanpat Top Layer\n",
        "myModel.summary()"
      ],
      "metadata": {
        "id": "U81Lyfzr9CDg",
        "colab": {
          "base_uri": "https://localhost:8080/"
        },
        "outputId": "97447da7-1133-4ec8-eed6-8b790354fce5"
      },
      "execution_count": null,
      "outputs": [
        {
          "output_type": "stream",
          "name": "stdout",
          "text": [
            "Model: \"mobilenet_1.00_224\"\n",
            "_________________________________________________________________\n",
            " Layer (type)                Output Shape              Param #   \n",
            "=================================================================\n",
            " input_1 (InputLayer)        [(None, 150, 150, 3)]     0         \n",
            "                                                                 \n",
            " conv1 (Conv2D)              (None, 75, 75, 32)        864       \n",
            "                                                                 \n",
            " conv1_bn (BatchNormalizati  (None, 75, 75, 32)        128       \n",
            " on)                                                             \n",
            "                                                                 \n",
            " conv1_relu (ReLU)           (None, 75, 75, 32)        0         \n",
            "                                                                 \n",
            " conv_dw_1 (DepthwiseConv2D  (None, 75, 75, 32)        288       \n",
            " )                                                               \n",
            "                                                                 \n",
            " conv_dw_1_bn (BatchNormali  (None, 75, 75, 32)        128       \n",
            " zation)                                                         \n",
            "                                                                 \n",
            " conv_dw_1_relu (ReLU)       (None, 75, 75, 32)        0         \n",
            "                                                                 \n",
            " conv_pw_1 (Conv2D)          (None, 75, 75, 64)        2048      \n",
            "                                                                 \n",
            " conv_pw_1_bn (BatchNormali  (None, 75, 75, 64)        256       \n",
            " zation)                                                         \n",
            "                                                                 \n",
            " conv_pw_1_relu (ReLU)       (None, 75, 75, 64)        0         \n",
            "                                                                 \n",
            " conv_pad_2 (ZeroPadding2D)  (None, 76, 76, 64)        0         \n",
            "                                                                 \n",
            " conv_dw_2 (DepthwiseConv2D  (None, 37, 37, 64)        576       \n",
            " )                                                               \n",
            "                                                                 \n",
            " conv_dw_2_bn (BatchNormali  (None, 37, 37, 64)        256       \n",
            " zation)                                                         \n",
            "                                                                 \n",
            " conv_dw_2_relu (ReLU)       (None, 37, 37, 64)        0         \n",
            "                                                                 \n",
            " conv_pw_2 (Conv2D)          (None, 37, 37, 128)       8192      \n",
            "                                                                 \n",
            " conv_pw_2_bn (BatchNormali  (None, 37, 37, 128)       512       \n",
            " zation)                                                         \n",
            "                                                                 \n",
            " conv_pw_2_relu (ReLU)       (None, 37, 37, 128)       0         \n",
            "                                                                 \n",
            " conv_dw_3 (DepthwiseConv2D  (None, 37, 37, 128)       1152      \n",
            " )                                                               \n",
            "                                                                 \n",
            " conv_dw_3_bn (BatchNormali  (None, 37, 37, 128)       512       \n",
            " zation)                                                         \n",
            "                                                                 \n",
            " conv_dw_3_relu (ReLU)       (None, 37, 37, 128)       0         \n",
            "                                                                 \n",
            " conv_pw_3 (Conv2D)          (None, 37, 37, 128)       16384     \n",
            "                                                                 \n",
            " conv_pw_3_bn (BatchNormali  (None, 37, 37, 128)       512       \n",
            " zation)                                                         \n",
            "                                                                 \n",
            " conv_pw_3_relu (ReLU)       (None, 37, 37, 128)       0         \n",
            "                                                                 \n",
            " conv_pad_4 (ZeroPadding2D)  (None, 38, 38, 128)       0         \n",
            "                                                                 \n",
            " conv_dw_4 (DepthwiseConv2D  (None, 18, 18, 128)       1152      \n",
            " )                                                               \n",
            "                                                                 \n",
            " conv_dw_4_bn (BatchNormali  (None, 18, 18, 128)       512       \n",
            " zation)                                                         \n",
            "                                                                 \n",
            " conv_dw_4_relu (ReLU)       (None, 18, 18, 128)       0         \n",
            "                                                                 \n",
            " conv_pw_4 (Conv2D)          (None, 18, 18, 256)       32768     \n",
            "                                                                 \n",
            " conv_pw_4_bn (BatchNormali  (None, 18, 18, 256)       1024      \n",
            " zation)                                                         \n",
            "                                                                 \n",
            " conv_pw_4_relu (ReLU)       (None, 18, 18, 256)       0         \n",
            "                                                                 \n",
            " conv_dw_5 (DepthwiseConv2D  (None, 18, 18, 256)       2304      \n",
            " )                                                               \n",
            "                                                                 \n",
            " conv_dw_5_bn (BatchNormali  (None, 18, 18, 256)       1024      \n",
            " zation)                                                         \n",
            "                                                                 \n",
            " conv_dw_5_relu (ReLU)       (None, 18, 18, 256)       0         \n",
            "                                                                 \n",
            " conv_pw_5 (Conv2D)          (None, 18, 18, 256)       65536     \n",
            "                                                                 \n",
            " conv_pw_5_bn (BatchNormali  (None, 18, 18, 256)       1024      \n",
            " zation)                                                         \n",
            "                                                                 \n",
            " conv_pw_5_relu (ReLU)       (None, 18, 18, 256)       0         \n",
            "                                                                 \n",
            " conv_pad_6 (ZeroPadding2D)  (None, 19, 19, 256)       0         \n",
            "                                                                 \n",
            " conv_dw_6 (DepthwiseConv2D  (None, 9, 9, 256)         2304      \n",
            " )                                                               \n",
            "                                                                 \n",
            " conv_dw_6_bn (BatchNormali  (None, 9, 9, 256)         1024      \n",
            " zation)                                                         \n",
            "                                                                 \n",
            " conv_dw_6_relu (ReLU)       (None, 9, 9, 256)         0         \n",
            "                                                                 \n",
            " conv_pw_6 (Conv2D)          (None, 9, 9, 512)         131072    \n",
            "                                                                 \n",
            " conv_pw_6_bn (BatchNormali  (None, 9, 9, 512)         2048      \n",
            " zation)                                                         \n",
            "                                                                 \n",
            " conv_pw_6_relu (ReLU)       (None, 9, 9, 512)         0         \n",
            "                                                                 \n",
            " conv_dw_7 (DepthwiseConv2D  (None, 9, 9, 512)         4608      \n",
            " )                                                               \n",
            "                                                                 \n",
            " conv_dw_7_bn (BatchNormali  (None, 9, 9, 512)         2048      \n",
            " zation)                                                         \n",
            "                                                                 \n",
            " conv_dw_7_relu (ReLU)       (None, 9, 9, 512)         0         \n",
            "                                                                 \n",
            " conv_pw_7 (Conv2D)          (None, 9, 9, 512)         262144    \n",
            "                                                                 \n",
            " conv_pw_7_bn (BatchNormali  (None, 9, 9, 512)         2048      \n",
            " zation)                                                         \n",
            "                                                                 \n",
            " conv_pw_7_relu (ReLU)       (None, 9, 9, 512)         0         \n",
            "                                                                 \n",
            " conv_dw_8 (DepthwiseConv2D  (None, 9, 9, 512)         4608      \n",
            " )                                                               \n",
            "                                                                 \n",
            " conv_dw_8_bn (BatchNormali  (None, 9, 9, 512)         2048      \n",
            " zation)                                                         \n",
            "                                                                 \n",
            " conv_dw_8_relu (ReLU)       (None, 9, 9, 512)         0         \n",
            "                                                                 \n",
            " conv_pw_8 (Conv2D)          (None, 9, 9, 512)         262144    \n",
            "                                                                 \n",
            " conv_pw_8_bn (BatchNormali  (None, 9, 9, 512)         2048      \n",
            " zation)                                                         \n",
            "                                                                 \n",
            " conv_pw_8_relu (ReLU)       (None, 9, 9, 512)         0         \n",
            "                                                                 \n",
            " conv_dw_9 (DepthwiseConv2D  (None, 9, 9, 512)         4608      \n",
            " )                                                               \n",
            "                                                                 \n",
            " conv_dw_9_bn (BatchNormali  (None, 9, 9, 512)         2048      \n",
            " zation)                                                         \n",
            "                                                                 \n",
            " conv_dw_9_relu (ReLU)       (None, 9, 9, 512)         0         \n",
            "                                                                 \n",
            " conv_pw_9 (Conv2D)          (None, 9, 9, 512)         262144    \n",
            "                                                                 \n",
            " conv_pw_9_bn (BatchNormali  (None, 9, 9, 512)         2048      \n",
            " zation)                                                         \n",
            "                                                                 \n",
            " conv_pw_9_relu (ReLU)       (None, 9, 9, 512)         0         \n",
            "                                                                 \n",
            " conv_dw_10 (DepthwiseConv2  (None, 9, 9, 512)         4608      \n",
            " D)                                                              \n",
            "                                                                 \n",
            " conv_dw_10_bn (BatchNormal  (None, 9, 9, 512)         2048      \n",
            " ization)                                                        \n",
            "                                                                 \n",
            " conv_dw_10_relu (ReLU)      (None, 9, 9, 512)         0         \n",
            "                                                                 \n",
            " conv_pw_10 (Conv2D)         (None, 9, 9, 512)         262144    \n",
            "                                                                 \n",
            " conv_pw_10_bn (BatchNormal  (None, 9, 9, 512)         2048      \n",
            " ization)                                                        \n",
            "                                                                 \n",
            " conv_pw_10_relu (ReLU)      (None, 9, 9, 512)         0         \n",
            "                                                                 \n",
            " conv_dw_11 (DepthwiseConv2  (None, 9, 9, 512)         4608      \n",
            " D)                                                              \n",
            "                                                                 \n",
            " conv_dw_11_bn (BatchNormal  (None, 9, 9, 512)         2048      \n",
            " ization)                                                        \n",
            "                                                                 \n",
            " conv_dw_11_relu (ReLU)      (None, 9, 9, 512)         0         \n",
            "                                                                 \n",
            " conv_pw_11 (Conv2D)         (None, 9, 9, 512)         262144    \n",
            "                                                                 \n",
            " conv_pw_11_bn (BatchNormal  (None, 9, 9, 512)         2048      \n",
            " ization)                                                        \n",
            "                                                                 \n",
            " conv_pw_11_relu (ReLU)      (None, 9, 9, 512)         0         \n",
            "                                                                 \n",
            " conv_pad_12 (ZeroPadding2D  (None, 10, 10, 512)       0         \n",
            " )                                                               \n",
            "                                                                 \n",
            " conv_dw_12 (DepthwiseConv2  (None, 4, 4, 512)         4608      \n",
            " D)                                                              \n",
            "                                                                 \n",
            " conv_dw_12_bn (BatchNormal  (None, 4, 4, 512)         2048      \n",
            " ization)                                                        \n",
            "                                                                 \n",
            " conv_dw_12_relu (ReLU)      (None, 4, 4, 512)         0         \n",
            "                                                                 \n",
            " conv_pw_12 (Conv2D)         (None, 4, 4, 1024)        524288    \n",
            "                                                                 \n",
            " conv_pw_12_bn (BatchNormal  (None, 4, 4, 1024)        4096      \n",
            " ization)                                                        \n",
            "                                                                 \n",
            " conv_pw_12_relu (ReLU)      (None, 4, 4, 1024)        0         \n",
            "                                                                 \n",
            " conv_dw_13 (DepthwiseConv2  (None, 4, 4, 1024)        9216      \n",
            " D)                                                              \n",
            "                                                                 \n",
            " conv_dw_13_bn (BatchNormal  (None, 4, 4, 1024)        4096      \n",
            " ization)                                                        \n",
            "                                                                 \n",
            " conv_dw_13_relu (ReLU)      (None, 4, 4, 1024)        0         \n",
            "                                                                 \n",
            " conv_pw_13 (Conv2D)         (None, 4, 4, 1024)        1048576   \n",
            "                                                                 \n",
            " conv_pw_13_bn (BatchNormal  (None, 4, 4, 1024)        4096      \n",
            " ization)                                                        \n",
            "                                                                 \n",
            " conv_pw_13_relu (ReLU)      (None, 4, 4, 1024)        0         \n",
            "                                                                 \n",
            "=================================================================\n",
            "Total params: 3228864 (12.32 MB)\n",
            "Trainable params: 3206976 (12.23 MB)\n",
            "Non-trainable params: 21888 (85.50 KB)\n",
            "_________________________________________________________________\n"
          ]
        }
      ]
    },
    {
      "cell_type": "code",
      "source": [
        "# Menambah / Modifikasi sendiri model\n",
        "x=myModel.output\n",
        "x=GlobalAveragePooling2D()(x)\n",
        "x=Dense(1024,activation='relu')(x)\n",
        "x=Dense(512,activation='relu')(x)\n",
        "y=Dense(3,activation='softmax')(x)\n",
        "\n",
        "# Model baru setelah ditambahkan layer-layer diatas\n",
        "myNewModel=Model(inputs=myModel.input,outputs=y)"
      ],
      "metadata": {
        "id": "-o4OTt3f9G37"
      },
      "execution_count": null,
      "outputs": []
    },
    {
      "cell_type": "code",
      "source": [
        "# Arsitektur Model MobileNet yang baru tadi setelah di modifikasi sedikit\n",
        "myNewModel.summary()"
      ],
      "metadata": {
        "id": "2DqbkpDx9IgT",
        "colab": {
          "base_uri": "https://localhost:8080/"
        },
        "outputId": "e4992a7d-4f57-42e0-e7a9-0c604ca21004"
      },
      "execution_count": null,
      "outputs": [
        {
          "output_type": "stream",
          "name": "stdout",
          "text": [
            "Model: \"model\"\n",
            "_________________________________________________________________\n",
            " Layer (type)                Output Shape              Param #   \n",
            "=================================================================\n",
            " input_1 (InputLayer)        [(None, 150, 150, 3)]     0         \n",
            "                                                                 \n",
            " conv1 (Conv2D)              (None, 75, 75, 32)        864       \n",
            "                                                                 \n",
            " conv1_bn (BatchNormalizati  (None, 75, 75, 32)        128       \n",
            " on)                                                             \n",
            "                                                                 \n",
            " conv1_relu (ReLU)           (None, 75, 75, 32)        0         \n",
            "                                                                 \n",
            " conv_dw_1 (DepthwiseConv2D  (None, 75, 75, 32)        288       \n",
            " )                                                               \n",
            "                                                                 \n",
            " conv_dw_1_bn (BatchNormali  (None, 75, 75, 32)        128       \n",
            " zation)                                                         \n",
            "                                                                 \n",
            " conv_dw_1_relu (ReLU)       (None, 75, 75, 32)        0         \n",
            "                                                                 \n",
            " conv_pw_1 (Conv2D)          (None, 75, 75, 64)        2048      \n",
            "                                                                 \n",
            " conv_pw_1_bn (BatchNormali  (None, 75, 75, 64)        256       \n",
            " zation)                                                         \n",
            "                                                                 \n",
            " conv_pw_1_relu (ReLU)       (None, 75, 75, 64)        0         \n",
            "                                                                 \n",
            " conv_pad_2 (ZeroPadding2D)  (None, 76, 76, 64)        0         \n",
            "                                                                 \n",
            " conv_dw_2 (DepthwiseConv2D  (None, 37, 37, 64)        576       \n",
            " )                                                               \n",
            "                                                                 \n",
            " conv_dw_2_bn (BatchNormali  (None, 37, 37, 64)        256       \n",
            " zation)                                                         \n",
            "                                                                 \n",
            " conv_dw_2_relu (ReLU)       (None, 37, 37, 64)        0         \n",
            "                                                                 \n",
            " conv_pw_2 (Conv2D)          (None, 37, 37, 128)       8192      \n",
            "                                                                 \n",
            " conv_pw_2_bn (BatchNormali  (None, 37, 37, 128)       512       \n",
            " zation)                                                         \n",
            "                                                                 \n",
            " conv_pw_2_relu (ReLU)       (None, 37, 37, 128)       0         \n",
            "                                                                 \n",
            " conv_dw_3 (DepthwiseConv2D  (None, 37, 37, 128)       1152      \n",
            " )                                                               \n",
            "                                                                 \n",
            " conv_dw_3_bn (BatchNormali  (None, 37, 37, 128)       512       \n",
            " zation)                                                         \n",
            "                                                                 \n",
            " conv_dw_3_relu (ReLU)       (None, 37, 37, 128)       0         \n",
            "                                                                 \n",
            " conv_pw_3 (Conv2D)          (None, 37, 37, 128)       16384     \n",
            "                                                                 \n",
            " conv_pw_3_bn (BatchNormali  (None, 37, 37, 128)       512       \n",
            " zation)                                                         \n",
            "                                                                 \n",
            " conv_pw_3_relu (ReLU)       (None, 37, 37, 128)       0         \n",
            "                                                                 \n",
            " conv_pad_4 (ZeroPadding2D)  (None, 38, 38, 128)       0         \n",
            "                                                                 \n",
            " conv_dw_4 (DepthwiseConv2D  (None, 18, 18, 128)       1152      \n",
            " )                                                               \n",
            "                                                                 \n",
            " conv_dw_4_bn (BatchNormali  (None, 18, 18, 128)       512       \n",
            " zation)                                                         \n",
            "                                                                 \n",
            " conv_dw_4_relu (ReLU)       (None, 18, 18, 128)       0         \n",
            "                                                                 \n",
            " conv_pw_4 (Conv2D)          (None, 18, 18, 256)       32768     \n",
            "                                                                 \n",
            " conv_pw_4_bn (BatchNormali  (None, 18, 18, 256)       1024      \n",
            " zation)                                                         \n",
            "                                                                 \n",
            " conv_pw_4_relu (ReLU)       (None, 18, 18, 256)       0         \n",
            "                                                                 \n",
            " conv_dw_5 (DepthwiseConv2D  (None, 18, 18, 256)       2304      \n",
            " )                                                               \n",
            "                                                                 \n",
            " conv_dw_5_bn (BatchNormali  (None, 18, 18, 256)       1024      \n",
            " zation)                                                         \n",
            "                                                                 \n",
            " conv_dw_5_relu (ReLU)       (None, 18, 18, 256)       0         \n",
            "                                                                 \n",
            " conv_pw_5 (Conv2D)          (None, 18, 18, 256)       65536     \n",
            "                                                                 \n",
            " conv_pw_5_bn (BatchNormali  (None, 18, 18, 256)       1024      \n",
            " zation)                                                         \n",
            "                                                                 \n",
            " conv_pw_5_relu (ReLU)       (None, 18, 18, 256)       0         \n",
            "                                                                 \n",
            " conv_pad_6 (ZeroPadding2D)  (None, 19, 19, 256)       0         \n",
            "                                                                 \n",
            " conv_dw_6 (DepthwiseConv2D  (None, 9, 9, 256)         2304      \n",
            " )                                                               \n",
            "                                                                 \n",
            " conv_dw_6_bn (BatchNormali  (None, 9, 9, 256)         1024      \n",
            " zation)                                                         \n",
            "                                                                 \n",
            " conv_dw_6_relu (ReLU)       (None, 9, 9, 256)         0         \n",
            "                                                                 \n",
            " conv_pw_6 (Conv2D)          (None, 9, 9, 512)         131072    \n",
            "                                                                 \n",
            " conv_pw_6_bn (BatchNormali  (None, 9, 9, 512)         2048      \n",
            " zation)                                                         \n",
            "                                                                 \n",
            " conv_pw_6_relu (ReLU)       (None, 9, 9, 512)         0         \n",
            "                                                                 \n",
            " conv_dw_7 (DepthwiseConv2D  (None, 9, 9, 512)         4608      \n",
            " )                                                               \n",
            "                                                                 \n",
            " conv_dw_7_bn (BatchNormali  (None, 9, 9, 512)         2048      \n",
            " zation)                                                         \n",
            "                                                                 \n",
            " conv_dw_7_relu (ReLU)       (None, 9, 9, 512)         0         \n",
            "                                                                 \n",
            " conv_pw_7 (Conv2D)          (None, 9, 9, 512)         262144    \n",
            "                                                                 \n",
            " conv_pw_7_bn (BatchNormali  (None, 9, 9, 512)         2048      \n",
            " zation)                                                         \n",
            "                                                                 \n",
            " conv_pw_7_relu (ReLU)       (None, 9, 9, 512)         0         \n",
            "                                                                 \n",
            " conv_dw_8 (DepthwiseConv2D  (None, 9, 9, 512)         4608      \n",
            " )                                                               \n",
            "                                                                 \n",
            " conv_dw_8_bn (BatchNormali  (None, 9, 9, 512)         2048      \n",
            " zation)                                                         \n",
            "                                                                 \n",
            " conv_dw_8_relu (ReLU)       (None, 9, 9, 512)         0         \n",
            "                                                                 \n",
            " conv_pw_8 (Conv2D)          (None, 9, 9, 512)         262144    \n",
            "                                                                 \n",
            " conv_pw_8_bn (BatchNormali  (None, 9, 9, 512)         2048      \n",
            " zation)                                                         \n",
            "                                                                 \n",
            " conv_pw_8_relu (ReLU)       (None, 9, 9, 512)         0         \n",
            "                                                                 \n",
            " conv_dw_9 (DepthwiseConv2D  (None, 9, 9, 512)         4608      \n",
            " )                                                               \n",
            "                                                                 \n",
            " conv_dw_9_bn (BatchNormali  (None, 9, 9, 512)         2048      \n",
            " zation)                                                         \n",
            "                                                                 \n",
            " conv_dw_9_relu (ReLU)       (None, 9, 9, 512)         0         \n",
            "                                                                 \n",
            " conv_pw_9 (Conv2D)          (None, 9, 9, 512)         262144    \n",
            "                                                                 \n",
            " conv_pw_9_bn (BatchNormali  (None, 9, 9, 512)         2048      \n",
            " zation)                                                         \n",
            "                                                                 \n",
            " conv_pw_9_relu (ReLU)       (None, 9, 9, 512)         0         \n",
            "                                                                 \n",
            " conv_dw_10 (DepthwiseConv2  (None, 9, 9, 512)         4608      \n",
            " D)                                                              \n",
            "                                                                 \n",
            " conv_dw_10_bn (BatchNormal  (None, 9, 9, 512)         2048      \n",
            " ization)                                                        \n",
            "                                                                 \n",
            " conv_dw_10_relu (ReLU)      (None, 9, 9, 512)         0         \n",
            "                                                                 \n",
            " conv_pw_10 (Conv2D)         (None, 9, 9, 512)         262144    \n",
            "                                                                 \n",
            " conv_pw_10_bn (BatchNormal  (None, 9, 9, 512)         2048      \n",
            " ization)                                                        \n",
            "                                                                 \n",
            " conv_pw_10_relu (ReLU)      (None, 9, 9, 512)         0         \n",
            "                                                                 \n",
            " conv_dw_11 (DepthwiseConv2  (None, 9, 9, 512)         4608      \n",
            " D)                                                              \n",
            "                                                                 \n",
            " conv_dw_11_bn (BatchNormal  (None, 9, 9, 512)         2048      \n",
            " ization)                                                        \n",
            "                                                                 \n",
            " conv_dw_11_relu (ReLU)      (None, 9, 9, 512)         0         \n",
            "                                                                 \n",
            " conv_pw_11 (Conv2D)         (None, 9, 9, 512)         262144    \n",
            "                                                                 \n",
            " conv_pw_11_bn (BatchNormal  (None, 9, 9, 512)         2048      \n",
            " ization)                                                        \n",
            "                                                                 \n",
            " conv_pw_11_relu (ReLU)      (None, 9, 9, 512)         0         \n",
            "                                                                 \n",
            " conv_pad_12 (ZeroPadding2D  (None, 10, 10, 512)       0         \n",
            " )                                                               \n",
            "                                                                 \n",
            " conv_dw_12 (DepthwiseConv2  (None, 4, 4, 512)         4608      \n",
            " D)                                                              \n",
            "                                                                 \n",
            " conv_dw_12_bn (BatchNormal  (None, 4, 4, 512)         2048      \n",
            " ization)                                                        \n",
            "                                                                 \n",
            " conv_dw_12_relu (ReLU)      (None, 4, 4, 512)         0         \n",
            "                                                                 \n",
            " conv_pw_12 (Conv2D)         (None, 4, 4, 1024)        524288    \n",
            "                                                                 \n",
            " conv_pw_12_bn (BatchNormal  (None, 4, 4, 1024)        4096      \n",
            " ization)                                                        \n",
            "                                                                 \n",
            " conv_pw_12_relu (ReLU)      (None, 4, 4, 1024)        0         \n",
            "                                                                 \n",
            " conv_dw_13 (DepthwiseConv2  (None, 4, 4, 1024)        9216      \n",
            " D)                                                              \n",
            "                                                                 \n",
            " conv_dw_13_bn (BatchNormal  (None, 4, 4, 1024)        4096      \n",
            " ization)                                                        \n",
            "                                                                 \n",
            " conv_dw_13_relu (ReLU)      (None, 4, 4, 1024)        0         \n",
            "                                                                 \n",
            " conv_pw_13 (Conv2D)         (None, 4, 4, 1024)        1048576   \n",
            "                                                                 \n",
            " conv_pw_13_bn (BatchNormal  (None, 4, 4, 1024)        4096      \n",
            " ization)                                                        \n",
            "                                                                 \n",
            " conv_pw_13_relu (ReLU)      (None, 4, 4, 1024)        0         \n",
            "                                                                 \n",
            " global_average_pooling2d (  (None, 1024)              0         \n",
            " GlobalAveragePooling2D)                                         \n",
            "                                                                 \n",
            " dense (Dense)               (None, 1024)              1049600   \n",
            "                                                                 \n",
            " dense_1 (Dense)             (None, 512)               524800    \n",
            "                                                                 \n",
            " dense_2 (Dense)             (None, 3)                 1539      \n",
            "                                                                 \n",
            "=================================================================\n",
            "Total params: 4804803 (18.33 MB)\n",
            "Trainable params: 4782915 (18.25 MB)\n",
            "Non-trainable params: 21888 (85.50 KB)\n",
            "_________________________________________________________________\n"
          ]
        }
      ]
    },
    {
      "cell_type": "code",
      "source": [
        "for i,layer in enumerate(myNewModel.layers):\n",
        "  print(i,layer.name)"
      ],
      "metadata": {
        "id": "BYgfUFhx9K6W",
        "colab": {
          "base_uri": "https://localhost:8080/"
        },
        "outputId": "30092df8-f6df-4b89-a313-7ebb7d5677b4"
      },
      "execution_count": null,
      "outputs": [
        {
          "output_type": "stream",
          "name": "stdout",
          "text": [
            "0 input_1\n",
            "1 conv1\n",
            "2 conv1_bn\n",
            "3 conv1_relu\n",
            "4 conv_dw_1\n",
            "5 conv_dw_1_bn\n",
            "6 conv_dw_1_relu\n",
            "7 conv_pw_1\n",
            "8 conv_pw_1_bn\n",
            "9 conv_pw_1_relu\n",
            "10 conv_pad_2\n",
            "11 conv_dw_2\n",
            "12 conv_dw_2_bn\n",
            "13 conv_dw_2_relu\n",
            "14 conv_pw_2\n",
            "15 conv_pw_2_bn\n",
            "16 conv_pw_2_relu\n",
            "17 conv_dw_3\n",
            "18 conv_dw_3_bn\n",
            "19 conv_dw_3_relu\n",
            "20 conv_pw_3\n",
            "21 conv_pw_3_bn\n",
            "22 conv_pw_3_relu\n",
            "23 conv_pad_4\n",
            "24 conv_dw_4\n",
            "25 conv_dw_4_bn\n",
            "26 conv_dw_4_relu\n",
            "27 conv_pw_4\n",
            "28 conv_pw_4_bn\n",
            "29 conv_pw_4_relu\n",
            "30 conv_dw_5\n",
            "31 conv_dw_5_bn\n",
            "32 conv_dw_5_relu\n",
            "33 conv_pw_5\n",
            "34 conv_pw_5_bn\n",
            "35 conv_pw_5_relu\n",
            "36 conv_pad_6\n",
            "37 conv_dw_6\n",
            "38 conv_dw_6_bn\n",
            "39 conv_dw_6_relu\n",
            "40 conv_pw_6\n",
            "41 conv_pw_6_bn\n",
            "42 conv_pw_6_relu\n",
            "43 conv_dw_7\n",
            "44 conv_dw_7_bn\n",
            "45 conv_dw_7_relu\n",
            "46 conv_pw_7\n",
            "47 conv_pw_7_bn\n",
            "48 conv_pw_7_relu\n",
            "49 conv_dw_8\n",
            "50 conv_dw_8_bn\n",
            "51 conv_dw_8_relu\n",
            "52 conv_pw_8\n",
            "53 conv_pw_8_bn\n",
            "54 conv_pw_8_relu\n",
            "55 conv_dw_9\n",
            "56 conv_dw_9_bn\n",
            "57 conv_dw_9_relu\n",
            "58 conv_pw_9\n",
            "59 conv_pw_9_bn\n",
            "60 conv_pw_9_relu\n",
            "61 conv_dw_10\n",
            "62 conv_dw_10_bn\n",
            "63 conv_dw_10_relu\n",
            "64 conv_pw_10\n",
            "65 conv_pw_10_bn\n",
            "66 conv_pw_10_relu\n",
            "67 conv_dw_11\n",
            "68 conv_dw_11_bn\n",
            "69 conv_dw_11_relu\n",
            "70 conv_pw_11\n",
            "71 conv_pw_11_bn\n",
            "72 conv_pw_11_relu\n",
            "73 conv_pad_12\n",
            "74 conv_dw_12\n",
            "75 conv_dw_12_bn\n",
            "76 conv_dw_12_relu\n",
            "77 conv_pw_12\n",
            "78 conv_pw_12_bn\n",
            "79 conv_pw_12_relu\n",
            "80 conv_dw_13\n",
            "81 conv_dw_13_bn\n",
            "82 conv_dw_13_relu\n",
            "83 conv_pw_13\n",
            "84 conv_pw_13_bn\n",
            "85 conv_pw_13_relu\n",
            "86 global_average_pooling2d\n",
            "87 dense\n",
            "88 dense_1\n",
            "89 dense_2\n"
          ]
        }
      ]
    },
    {
      "cell_type": "code",
      "source": [
        "for layer in myNewModel.layers[:86]: # layer 0 sampai dengan 85 non trainable\n",
        "    layer.trainable=False\n",
        "for layer in myNewModel.layers[86:]: # layer 86 sampai dengan terakhir\n",
        "    layer.trainable=True\n"
      ],
      "metadata": {
        "id": "IFxcsa4f9Ml0"
      },
      "execution_count": null,
      "outputs": []
    },
    {
      "cell_type": "markdown",
      "source": [
        "# Prepocessing Image"
      ],
      "metadata": {
        "id": "Iuslv1up_878"
      }
    },
    {
      "cell_type": "code",
      "source": [
        "# train_set=ImageDataGenerator(preprocessing_function=preprocess_input)\n",
        "train_set=ImageDataGenerator(\n",
        "    rescale=1./255,\n",
        "    rotation_range=40,       # Rotasi gambar dalam rentang 20 derajat\n",
        "    width_shift_range=0.2,   # Pergeseran horizontal maksimum 20% dari lebar gambar\n",
        "    height_shift_range=0.2,  # Pergeseran vertikal maksimum 20% dari tinggi gambar\n",
        "    shear_range=0.2,         # Pergeseran geser maksimum 20 derajat\n",
        "    zoom_range=0.2,          # Zoom gambar maksimum 20%\n",
        "    horizontal_flip=True,    # Pembalikan horizontal acak\n",
        "    fill_mode='nearest',     # Metode pengisian untuk piksel baru setelah pergeseran atau rotasi\n",
        "    # preprocessing_function=preprocess_input  # Normalisasi menggunakan fungsi preprocess_input dari model yang digunakan\n",
        ")\n",
        "\n",
        "train_set2=train_set.flow_from_directory(\n",
        "    directory=train_dir,\n",
        "    target_size=(150,150),\n",
        "    color_mode='rgb',\n",
        "    batch_size=10,\n",
        "    class_mode='categorical',\n",
        "    shuffle=True)"
      ],
      "metadata": {
        "id": "nFtTUzv_9ON-",
        "colab": {
          "base_uri": "https://localhost:8080/"
        },
        "outputId": "00176502-cf6d-4ea0-d564-62901a28eb18"
      },
      "execution_count": null,
      "outputs": [
        {
          "output_type": "stream",
          "name": "stdout",
          "text": [
            "Found 1588 images belonging to 3 classes.\n"
          ]
        }
      ]
    },
    {
      "cell_type": "code",
      "source": [
        "# val_set=ImageDataGenerator(preprocessing_function=preprocess_input)\n",
        "val_set=ImageDataGenerator(\n",
        "    rescale=1./255,\n",
        "    horizontal_flip=True,    # Pembalikan horizontal acak\n",
        ")\n",
        "\n",
        "val_set2=val_set.flow_from_directory(\n",
        "    directory=validation_dir,\n",
        "    target_size=(150,150),\n",
        "    color_mode='rgb',\n",
        "    batch_size=10,\n",
        "    class_mode='categorical',\n",
        "    shuffle=True)"
      ],
      "metadata": {
        "id": "a0Ghzdrq9P18",
        "colab": {
          "base_uri": "https://localhost:8080/"
        },
        "outputId": "248c602c-4440-4ae7-9f9a-d6dd05a23abc"
      },
      "execution_count": null,
      "outputs": [
        {
          "output_type": "stream",
          "name": "stdout",
          "text": [
            "Found 450 images belonging to 3 classes.\n"
          ]
        }
      ]
    },
    {
      "cell_type": "code",
      "source": [
        "test_set=ImageDataGenerator(\n",
        "    rescale=1./255,\n",
        ")\n",
        "\n",
        "test_set2=test_set.flow_from_directory(\n",
        "    directory=test_dir,\n",
        "    target_size=(150,150),\n",
        "    color_mode='rgb',\n",
        "    batch_size=10,\n",
        "    class_mode='categorical',\n",
        "    shuffle=True)"
      ],
      "metadata": {
        "colab": {
          "base_uri": "https://localhost:8080/"
        },
        "id": "5qbEeDF7EJ-7",
        "outputId": "4e9f9f1f-25d4-476c-bd47-1ca355d0b999"
      },
      "execution_count": null,
      "outputs": [
        {
          "output_type": "stream",
          "name": "stdout",
          "text": [
            "Found 150 images belonging to 3 classes.\n"
          ]
        }
      ]
    },
    {
      "cell_type": "markdown",
      "source": [
        "# Latih Model dengan Dataset"
      ],
      "metadata": {
        "id": "pJcKfopqAnU-"
      }
    },
    {
      "cell_type": "code",
      "source": [
        "# Optimizer\n",
        "opt = keras.optimizers.Adam(learning_rate=0.001)\n",
        "# Early stopping\n",
        "early_stopping = EarlyStopping(monitor='val_loss', mode=\"auto\", patience=6, restore_best_weights=True)\n",
        "#\n",
        "myNewModel.compile(optimizer=opt,loss=\"categorical_crossentropy\",metrics=['accuracy'])\n",
        "cobaHistory = myNewModel.fit(train_set2,epochs=10,batch_size=10,validation_data=val_set2, callbacks=[early_stopping])"
      ],
      "metadata": {
        "id": "IE8M4HQa9RoN",
        "colab": {
          "base_uri": "https://localhost:8080/"
        },
        "outputId": "64c105d5-3b6b-4bc7-ddbe-9f971cc9b666"
      },
      "execution_count": null,
      "outputs": [
        {
          "output_type": "stream",
          "name": "stdout",
          "text": [
            "Epoch 1/10\n",
            "159/159 [==============================] - 416s 3s/step - loss: 0.1979 - accuracy: 0.9383 - val_loss: 0.0200 - val_accuracy: 0.9933\n",
            "Epoch 2/10\n",
            "159/159 [==============================] - 52s 324ms/step - loss: 0.0660 - accuracy: 0.9767 - val_loss: 0.0430 - val_accuracy: 0.9889\n",
            "Epoch 3/10\n",
            "159/159 [==============================] - 53s 331ms/step - loss: 0.1061 - accuracy: 0.9723 - val_loss: 0.0090 - val_accuracy: 0.9956\n",
            "Epoch 4/10\n",
            "159/159 [==============================] - 49s 309ms/step - loss: 0.0496 - accuracy: 0.9824 - val_loss: 0.0057 - val_accuracy: 0.9956\n",
            "Epoch 5/10\n",
            "159/159 [==============================] - 51s 318ms/step - loss: 0.0258 - accuracy: 0.9924 - val_loss: 0.0011 - val_accuracy: 1.0000\n",
            "Epoch 6/10\n",
            "159/159 [==============================] - 53s 332ms/step - loss: 0.0436 - accuracy: 0.9874 - val_loss: 0.0160 - val_accuracy: 0.9933\n",
            "Epoch 7/10\n",
            "159/159 [==============================] - 51s 320ms/step - loss: 0.0423 - accuracy: 0.9861 - val_loss: 0.0013 - val_accuracy: 1.0000\n",
            "Epoch 8/10\n",
            "159/159 [==============================] - 51s 322ms/step - loss: 0.0234 - accuracy: 0.9918 - val_loss: 0.0022 - val_accuracy: 0.9978\n",
            "Epoch 9/10\n",
            "159/159 [==============================] - 51s 319ms/step - loss: 0.0367 - accuracy: 0.9874 - val_loss: 0.0076 - val_accuracy: 0.9956\n",
            "Epoch 10/10\n",
            "159/159 [==============================] - 50s 314ms/step - loss: 0.0244 - accuracy: 0.9924 - val_loss: 0.0034 - val_accuracy: 0.9978\n"
          ]
        }
      ]
    },
    {
      "cell_type": "code",
      "source": [
        "# Evaluasi model\n",
        "loss, accuracy = myNewModel.evaluate(test_set2)\n",
        "\n",
        "print(f\"Test Loss: {loss}\")\n",
        "print(f\"Test Accuracy: {accuracy}\")"
      ],
      "metadata": {
        "colab": {
          "base_uri": "https://localhost:8080/"
        },
        "id": "d3-A-iWWEunA",
        "outputId": "459de3e3-ddae-4774-8bce-5875046e923f"
      },
      "execution_count": null,
      "outputs": [
        {
          "output_type": "stream",
          "name": "stdout",
          "text": [
            "15/15 [==============================] - 37s 3s/step - loss: 0.0108 - accuracy: 0.9933\n",
            "Test Loss: 0.01083544921129942\n",
            "Test Accuracy: 0.9933333396911621\n"
          ]
        }
      ]
    },
    {
      "cell_type": "code",
      "source": [
        "from sklearn.metrics import classification_report, confusion_matrix\n",
        "import seaborn as sns\n",
        "\n",
        "# Buat prediksi\n",
        "y_pred = myNewModel.predict(test_set2)\n",
        "y_pred_classes = np.argmax(y_pred, axis=1)  # Mengambil indeks kelas prediksi dengan probabilitas tertinggi\n",
        "y_true = test_set2.classes  # Label sebenarnya\n",
        "\n",
        "# Menghitung confusion matrix\n",
        "conf_matrix = confusion_matrix(y_true, y_pred_classes)\n",
        "print(conf_matrix)\n",
        "\n",
        "# Menampilkan classification report\n",
        "class_labels = list(test_set2.class_indices.keys())\n",
        "report = classification_report(y_true, y_pred_classes, target_names=class_labels)\n",
        "print(report)\n",
        "\n",
        "# Visualisasi confusion matrix\n",
        "plt.figure(figsize=(8, 6))\n",
        "sns.heatmap(conf_matrix, annot=True, fmt='d', cmap='Blues', xticklabels=class_labels, yticklabels=class_labels)\n",
        "plt.xlabel('Predicted')\n",
        "plt.ylabel('True')\n",
        "plt.title('Confusion Matrix')\n",
        "plt.show()"
      ],
      "metadata": {
        "colab": {
          "base_uri": "https://localhost:8080/",
          "height": 807
        },
        "id": "RaEZucDtFUT-",
        "outputId": "58a4c4ab-a859-4153-ec8f-17a8ffd364b7"
      },
      "execution_count": null,
      "outputs": [
        {
          "output_type": "stream",
          "name": "stdout",
          "text": [
            "15/15 [==============================] - 6s 367ms/step\n",
            "[[17 19 14]\n",
            " [16 14 20]\n",
            " [17 18 15]]\n",
            "              precision    recall  f1-score   support\n",
            "\n",
            "   1scissors       0.34      0.34      0.34        50\n",
            "      2paper       0.27      0.28      0.28        50\n",
            "       3rock       0.31      0.30      0.30        50\n",
            "\n",
            "    accuracy                           0.31       150\n",
            "   macro avg       0.31      0.31      0.31       150\n",
            "weighted avg       0.31      0.31      0.31       150\n",
            "\n"
          ]
        },
        {
          "output_type": "display_data",
          "data": {
            "text/plain": [
              "<Figure size 800x600 with 2 Axes>"
            ],
            "image/png": "[encoded data removed]"
          },
          "metadata": {}
        }
      ]
    },
    {
      "cell_type": "markdown",
      "source": [
        "# Plot\n"
      ],
      "metadata": {
        "id": "SB5aog9vBaHq"
      }
    },
    {
      "cell_type": "code",
      "source": [
        "plt.figure(figsize=(12, 4))\n",
        "\n",
        "# Plot Loss\n",
        "plt.subplot(1, 2, 1)\n",
        "plt.plot(cobaHistory.history['loss'], label='Training Loss')\n",
        "plt.plot(cobaHistory.history['val_loss'], label='Validation Loss')\n",
        "plt.xlabel('Epochs')\n",
        "plt.ylabel('Loss')\n",
        "plt.title('Training and Validation Loss')\n",
        "plt.legend()\n",
        "\n",
        "# Plot Akurasi\n",
        "plt.subplot(1, 2, 2)\n",
        "plt.plot(cobaHistory.history['accuracy'], label='Training Accuracy')\n",
        "plt.plot(cobaHistory.history['val_accuracy'], label='Validation Accuracy')\n",
        "plt.xlabel('Epochs')\n",
        "plt.ylabel('Accuracy')\n",
        "plt.title('Training and Validation Accuracy')\n",
        "plt.legend()\n",
        "\n",
        "plt.show()"
      ],
      "metadata": {
        "id": "-XVAOYwNBbJz",
        "colab": {
          "base_uri": "https://localhost:8080/",
          "height": 410
        },
        "outputId": "00fc22a4-b4a5-4671-c6c6-a2d70a646297"
      },
      "execution_count": null,
      "outputs": [
        {
          "output_type": "display_data",
          "data": {
            "text/plain": [
              "<Figure size 1200x400 with 2 Axes>"
            ],
            "image/png": "[encoded data removed]"
          },
          "metadata": {}
        }
      ]
    },
    {
      "cell_type": "markdown",
      "source": [
        "# Prediksi Gambar"
      ],
      "metadata": {
        "id": "0Y2uY6YeBHjE"
      }
    },
    {
      "cell_type": "code",
      "source": [
        "# Taruh/Upload Gambar Manual pada G.Collabs kemudian sesuai kan PATH nya\n",
        "img = keras.utils.load_img('/content/batutest1.jpeg', target_size=(150, 150))\n",
        "img_array = keras.utils.img_to_array(img)\n",
        "img_array = np.expand_dims(img_array, axis=0)\n",
        "gambar = keras.applications.mobilenet.preprocess_input(img_array)\n",
        "img"
      ],
      "metadata": {
        "id": "1Kqlo1rN9UO6",
        "colab": {
          "base_uri": "https://localhost:8080/",
          "height": 167
        },
        "outputId": "15338fff-dfd1-41e4-dfac-3fc55ebfa0f9"
      },
      "execution_count": null,
      "outputs": [
        {
          "output_type": "execute_result",
          "data": {
            "text/plain": [
              "<PIL.Image.Image image mode=RGB size=150x150>"
            ],
            "image/png": "[encoded data removed]"
          },
          "metadata": {},
          "execution_count": 17
        }
      ]
    },
    {
      "cell_type": "code",
      "source": [
        "# Prediksi\n",
        "predictions = model_baru.predict(gambar)\n",
        "predictions"
      ],
      "metadata": {
        "id": "3B0rlG3d9V7R",
        "colab": {
          "base_uri": "https://localhost:8080/"
        },
        "outputId": "b006946d-ecad-46cd-aedc-b75e24e1c1d7"
      },
      "execution_count": null,
      "outputs": [
        {
          "output_type": "stream",
          "name": "stdout",
          "text": [
            "1/1 [==============================] - 0s 36ms/step\n"
          ]
        },
        {
          "output_type": "execute_result",
          "data": {
            "text/plain": [
              "array([[0.03876743, 0.13283816, 0.82839435]], dtype=float32)"
            ]
          },
          "metadata": {},
          "execution_count": 18
        }
      ]
    },
    {
      "cell_type": "code",
      "source": [
        "# penggunaan fungsi\n",
        "hasilPredict = np.round(predictions)\n",
        "hasil_teks = prediksi_ke_teks(hasilPredict) # panggil fungsi prediksi_ke_teks()\n",
        "print(hasil_teks)"
      ],
      "metadata": {
        "id": "QAQ5mnxvqEXi",
        "colab": {
          "base_uri": "https://localhost:8080/"
        },
        "outputId": "a6143004-9ded-44e0-9f51-a03cb979f9ac"
      },
      "execution_count": null,
      "outputs": [
        {
          "output_type": "stream",
          "name": "stdout",
          "text": [
            "Gambar diatas diprediksi adalah Rock\n"
          ]
        }
      ]
    },
    {
      "cell_type": "markdown",
      "source": [
        "# Save Model / Export Model"
      ],
      "metadata": {
        "id": "gDyqQfnvBLmo"
      }
    },
    {
      "cell_type": "code",
      "source": [
        "myNewModel.save('myNewModel.h5')"
      ],
      "metadata": {
        "id": "8nK3w7Qr9YpJ"
      },
      "execution_count": null,
      "outputs": []
    },
    {
      "cell_type": "markdown",
      "source": [
        "# Percobaan Pengaplikasian Model menggunakan Webcam\n"
      ],
      "metadata": {
        "id": "CoLNXFGWih0C"
      }
    },
    {
      "cell_type": "markdown",
      "source": [
        "## Camera Capture\n",
        "Using a webcam to capture images for processing on the runtime."
      ],
      "metadata": {
        "id": "HhpNXu8Vl2Bv"
      }
    },
    {
      "cell_type": "code",
      "source": [
        "# AMBIL GAMBAR DARI WEBCAM\n",
        "try:\n",
        "  filename = take_photo()\n",
        "  print('Saved to {}'.format(filename))\n",
        "  # Show the image which was just taken.\n",
        "  display(Image(filename))\n",
        "except Exception as err:\n",
        "  # Errors will be thrown if the user does not have a webcam or if they do not\n",
        "  # grant the page permission to access it.\n",
        "  print(str(err))"
      ],
      "metadata": {
        "id": "J65GaGKnl6v8",
        "colab": {
          "base_uri": "https://localhost:8080/",
          "height": 514
        },
        "outputId": "7f97b837-9fa9-4849-c737-b1f03fdac24f"
      },
      "execution_count": null,
      "outputs": [
        {
          "output_type": "display_data",
          "data": {
            "text/plain": [
              "<IPython.core.display.Javascript object>"
            ],
            "application/javascript": [
              "\n",
              "    async function takePhoto(quality) {\n",
              "      const div = document.createElement('div');\n",
              "      const capture = document.createElement('button');\n",
              "      capture.textContent = 'Capture';\n",
              "      div.appendChild(capture);\n",
              "\n",
              "      const video = document.createElement('video');\n",
              "      video.style.display = 'block';\n",
              "      const stream = await navigator.mediaDevices.getUserMedia({video: true});\n",
              "\n",
              "      document.body.appendChild(div);\n",
              "      div.appendChild(video);\n",
              "      video.srcObject = stream;\n",
              "      await video.play();\n",
              "\n",
              "      // Resize the output to fit the video element.\n",
              "      google.colab.output.setIframeHeight(document.documentElement.scrollHeight, true);\n",
              "\n",
              "      // Wait for Capture to be clicked.\n",
              "      await new Promise((resolve) => capture.onclick = resolve);\n",
              "\n",
              "      const canvas = document.createElement('canvas');\n",
              "      canvas.width = video.videoWidth;\n",
              "      canvas.height = video.videoHeight;\n",
              "      canvas.getContext('2d').drawImage(video, 0, 0);\n",
              "      stream.getVideoTracks()[0].stop();\n",
              "      div.remove();\n",
              "      return canvas.toDataURL('image/jpeg', quality);\n",
              "    }\n",
              "    "
            ]
          },
          "metadata": {}
        },
        {
          "output_type": "stream",
          "name": "stdout",
          "text": [
            "Saved to fotopercobaan.jpg\n"
          ]
        },
        {
          "output_type": "display_data",
          "data": {
            "image/jpeg": "[encoded data removed]",
            "text/plain": [
              "<IPython.core.display.Image object>"
            ]
          },
          "metadata": {}
        }
      ]
    },
    {
      "cell_type": "markdown",
      "source": [
        "## Test Foto yang baru diambil"
      ],
      "metadata": {
        "id": "JaFOQAeFooto"
      }
    },
    {
      "cell_type": "code",
      "source": [
        "testCam = keras.utils.load_img('/content/fotopercobaan.jpg')\n",
        "# Crop & Resize\n",
        "width, height = testCam.size\n",
        "left=np.round((width-height)/2)\n",
        "right=left+height\n",
        "testCam = testCam.crop((left, 0, right, height))\n",
        "testResize = testCam.resize((150,150))\n",
        "print(f'ukuran = {testResize.size}')\n",
        "testResize"
      ],
      "metadata": {
        "id": "OJkWBSX6sPG_",
        "colab": {
          "base_uri": "https://localhost:8080/",
          "height": 184
        },
        "outputId": "64abfa82-c7e3-4619-e301-ed0166ce2dd8"
      },
      "execution_count": null,
      "outputs": [
        {
          "output_type": "stream",
          "name": "stdout",
          "text": [
            "ukuran = (150, 150)\n"
          ]
        },
        {
          "output_type": "execute_result",
          "data": {
            "text/plain": [
              "<PIL.Image.Image image mode=RGB size=150x150>"
            ],
            "image/png": "[encoded data removed]"
          },
          "metadata": {},
          "execution_count": 79
        }
      ]
    },
    {
      "cell_type": "code",
      "source": [
        "# Taruh/Upload Gambar Manual pada G.Collabs kemudian sesuai kan PATH nya\n",
        "cameraCapt = testResize\n",
        "cam_array = keras.utils.img_to_array(cameraCapt)\n",
        "cam_array = np.expand_dims(cam_array, axis=0)\n",
        "captureResult = keras.applications.mobilenet.preprocess_input(cam_array)\n",
        "\n",
        "# Prediksi\n",
        "predictions2 = model_baru.predict(captureResult)\n",
        "predictions2"
      ],
      "metadata": {
        "id": "bTsF0tddovZS",
        "colab": {
          "base_uri": "https://localhost:8080/"
        },
        "outputId": "8adc29a1-b829-4b4a-f7da-e9ab1b630689"
      },
      "execution_count": null,
      "outputs": [
        {
          "output_type": "stream",
          "name": "stdout",
          "text": [
            "1/1 [==============================] - 0s 36ms/step\n"
          ]
        },
        {
          "output_type": "execute_result",
          "data": {
            "text/plain": [
              "array([[0.10642243, 0.15532716, 0.73825043]], dtype=float32)"
            ]
          },
          "metadata": {},
          "execution_count": 80
        }
      ]
    },
    {
      "cell_type": "code",
      "source": [
        "# penggunaan fungsi\n",
        "hasilPredict2 = np.round(predictions2)\n",
        "hasil_teks2 = prediksi_ke_teks(hasilPredict2)\n",
        "print(hasil_teks2)"
      ],
      "metadata": {
        "id": "B2RYFH9fsuuq",
        "colab": {
          "base_uri": "https://localhost:8080/"
        },
        "outputId": "a2970258-a6cf-44e2-e42c-1fa5307a293b"
      },
      "execution_count": null,
      "outputs": [
        {
          "output_type": "stream",
          "name": "stdout",
          "text": [
            "Gambar diatas diprediksi adalah Rock\n"
          ]
        }
      ]
    },
    {
      "cell_type": "markdown",
      "source": [
        "# Note :\n",
        "evaluasi :\n",
        "-"
      ],
      "metadata": {
        "id": "Q27ZOH3eSq7H"
      }
    }
  ]
}